{
 "cells": [
  {
   "cell_type": "code",
   "execution_count": 2,
   "metadata": {},
   "outputs": [
    {
     "name": "stdout",
     "output_type": "stream",
     "text": [
      "True\n"
     ]
    }
   ],
   "source": [
    "## Q1.\n",
    "def isPowerOfTwo(n):\n",
    "    if n <= 0:\n",
    "        return False\n",
    "    return n & (n - 1) == 0\n",
    "\n",
    "# Example \n",
    "n = 16\n",
    "result = isPowerOfTwo(n)\n",
    "print(result)  \n"
   ]
  },
  {
   "cell_type": "code",
   "execution_count": 1,
   "metadata": {},
   "outputs": [
    {
     "name": "stdout",
     "output_type": "stream",
     "text": [
      "15\n"
     ]
    }
   ],
   "source": [
    "## Q2.\n",
    "def sumOfFirstN(n):\n",
    "    sum = n * (n + 1) // 2\n",
    "    return sum\n",
    "\n",
    "# Example \n",
    "n = 5\n",
    "result = sumOfFirstN(n)\n",
    "print(result)  \n"
   ]
  },
  {
   "cell_type": "code",
   "execution_count": 3,
   "metadata": {},
   "outputs": [
    {
     "name": "stdout",
     "output_type": "stream",
     "text": [
      "120\n"
     ]
    }
   ],
   "source": [
    "## Q3.\n",
    "def factorial(N):\n",
    "    if N == 0:\n",
    "        return 1\n",
    "    else:\n",
    "        return N * factorial(N - 1)\n",
    "\n",
    "# Example \n",
    "N = 5\n",
    "result = factorial(N)\n",
    "print(result)\n"
   ]
  },
  {
   "cell_type": "code",
   "execution_count": 5,
   "metadata": {},
   "outputs": [
    {
     "name": "stdout",
     "output_type": "stream",
     "text": [
      "25\n",
      "32\n"
     ]
    }
   ],
   "source": [
    "## Q4.\n",
    "N = 5\n",
    "P = 2\n",
    "result = N ** P\n",
    "print(result)  \n",
    "\n",
    "N = 2\n",
    "P = 5\n",
    "result = N ** P\n",
    "print(result)  \n",
    "\n"
   ]
  },
  {
   "cell_type": "code",
   "execution_count": 6,
   "metadata": {},
   "outputs": [
    {
     "name": "stdout",
     "output_type": "stream",
     "text": [
      "8\n"
     ]
    }
   ],
   "source": [
    "## Q5.\n",
    "def find_max(arr):\n",
    "    # Base case: If the array has only one element, return that element\n",
    "    if len(arr) == 1:\n",
    "        return arr[0]\n",
    "    \n",
    "    # Recursive case: Compare the first element with the maximum of the rest of the array\n",
    "    return max(arr[0], find_max(arr[1:]))\n",
    "\n",
    "# Example \n",
    "arr = [1, 4, 3, -5, -4, 8, 6]\n",
    "max_element = find_max(arr)\n",
    "print(max_element)  \n"
   ]
  },
  {
   "cell_type": "code",
   "execution_count": 7,
   "metadata": {},
   "outputs": [
    {
     "name": "stdout",
     "output_type": "stream",
     "text": [
      "6\n",
      "23\n"
     ]
    }
   ],
   "source": [
    "## Q6.\n",
    "def find_nth_term(a, d, N):\n",
    "    nth_term = a + (N - 1) * d\n",
    "    return nth_term\n",
    "\n",
    "# Example \n",
    "a = 2\n",
    "d = 1\n",
    "N = 5\n",
    "nth_term = find_nth_term(a, d, N)\n",
    "print(nth_term) \n",
    "\n",
    "a = 5\n",
    "d = 2\n",
    "N = 10\n",
    "nth_term = find_nth_term(a, d, N)\n",
    "print(nth_term)  \n"
   ]
  },
  {
   "cell_type": "code",
   "execution_count": 8,
   "metadata": {},
   "outputs": [
    {
     "name": "stdout",
     "output_type": "stream",
     "text": [
      "['ABC', 'ACB', 'BAC', 'BCA', 'CBA', 'CAB']\n",
      "['XY', 'YX']\n"
     ]
    }
   ],
   "source": [
    "## Q7.\n",
    "def permute(s):\n",
    "    # Convert the string to a list of characters for easier manipulation\n",
    "    chars = list(s)\n",
    "    n = len(chars)\n",
    "    result = []\n",
    "\n",
    "    def backtrack(start):\n",
    "        # Base case: If the start index reaches the end, we have a complete permutation\n",
    "        if start == n:\n",
    "            result.append(''.join(chars))\n",
    "            return\n",
    "\n",
    "        # Recursive case: Generate permutations by swapping characters at each position\n",
    "        for i in range(start, n):\n",
    "            # Swap characters\n",
    "            chars[start], chars[i] = chars[i], chars[start]\n",
    "            # Recursively generate permutations for the remaining characters\n",
    "            backtrack(start + 1)\n",
    "            # Restore the original order by swapping back\n",
    "            chars[start], chars[i] = chars[i], chars[start]\n",
    "\n",
    "    # Start the backtracking algorithm\n",
    "    backtrack(0)\n",
    "\n",
    "    return result\n",
    "\n",
    "# Example \n",
    "s = \"ABC\"\n",
    "permutations = permute(s)\n",
    "print(permutations)  \n",
    "\n",
    "s = \"XY\"\n",
    "permutations = permute(s)\n",
    "print(permutations)\n"
   ]
  },
  {
   "cell_type": "code",
   "execution_count": 9,
   "metadata": {},
   "outputs": [
    {
     "name": "stdout",
     "output_type": "stream",
     "text": [
      "120\n",
      "18\n"
     ]
    }
   ],
   "source": [
    "## Q8.\n",
    "def product_of_array(arr):\n",
    "    product = 1\n",
    "    for num in arr:\n",
    "        product *= num\n",
    "    return product\n",
    "\n",
    "# Example \n",
    "arr = [1, 2, 3, 4, 5]\n",
    "result = product_of_array(arr)\n",
    "print(result)  \n",
    "\n",
    "arr = [1, 6, 3]\n",
    "result = product_of_array(arr)\n",
    "print(result)  \n"
   ]
  },
  {
   "cell_type": "code",
   "execution_count": null,
   "metadata": {},
   "outputs": [],
   "source": []
  },
  {
   "cell_type": "code",
   "execution_count": null,
   "metadata": {},
   "outputs": [],
   "source": []
  }
 ],
 "metadata": {
  "kernelspec": {
   "display_name": "Python 3",
   "language": "python",
   "name": "python3"
  },
  "language_info": {
   "codemirror_mode": {
    "name": "ipython",
    "version": 3
   },
   "file_extension": ".py",
   "mimetype": "text/x-python",
   "name": "python",
   "nbconvert_exporter": "python",
   "pygments_lexer": "ipython3",
   "version": "3.6.5"
  }
 },
 "nbformat": 4,
 "nbformat_minor": 2
}
