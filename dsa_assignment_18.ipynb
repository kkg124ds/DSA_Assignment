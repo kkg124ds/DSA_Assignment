{
 "cells": [
  {
   "cell_type": "code",
   "execution_count": 1,
   "metadata": {},
   "outputs": [
    {
     "name": "stdout",
     "output_type": "stream",
     "text": [
      "Merged intervals: [[1, 6], [8, 10], [15, 18]]\n"
     ]
    }
   ],
   "source": [
    "## Q1.\n",
    "\n",
    "def merge_intervals(intervals):\n",
    "    intervals.sort(key=lambda x: x[0])  # Sort intervals based on start time\n",
    "    merged = [intervals[0]]  # Start with the first interval\n",
    "\n",
    "    for current in intervals[1:]:\n",
    "        if current[0] <= merged[-1][1]:  # Overlapping intervals\n",
    "            merged[-1][1] = max(merged[-1][1], current[1])\n",
    "        else:  # Non-overlapping intervals\n",
    "            merged.append(current)\n",
    "\n",
    "    return merged\n",
    "\n",
    "\n",
    "# Example \n",
    "intervals = [[1, 3], [2, 6], [8, 10], [15, 18]]\n",
    "merged_intervals = merge_intervals(intervals)\n",
    "print(\"Merged intervals:\", merged_intervals)\n"
   ]
  },
  {
   "cell_type": "code",
   "execution_count": 2,
   "metadata": {},
   "outputs": [
    {
     "name": "stdout",
     "output_type": "stream",
     "text": [
      "Sorted colors: [0, 0, 1, 1, 2, 2]\n"
     ]
    }
   ],
   "source": [
    "## Q2.\n",
    "\n",
    "def sort_colors(nums):\n",
    "    low = 0\n",
    "    mid = 0\n",
    "    high = len(nums) - 1\n",
    "\n",
    "    while mid <= high:\n",
    "        if nums[mid] == 0:\n",
    "            nums[low], nums[mid] = nums[mid], nums[low]\n",
    "            low += 1\n",
    "            mid += 1\n",
    "        elif nums[mid] == 1:\n",
    "            mid += 1\n",
    "        else:\n",
    "            nums[mid], nums[high] = nums[high], nums[mid]\n",
    "            high -= 1\n",
    "\n",
    "    return nums\n",
    "\n",
    "\n",
    "# Example \n",
    "nums = [2, 0, 2, 1, 1, 0]\n",
    "sorted_nums = sort_colors(nums)\n",
    "print(\"Sorted colors:\", sorted_nums)\n"
   ]
  },
  {
   "cell_type": "code",
   "execution_count": 3,
   "metadata": {},
   "outputs": [
    {
     "name": "stdout",
     "output_type": "stream",
     "text": [
      "The first bad version is: 4\n"
     ]
    }
   ],
   "source": [
    "## Q3.\n",
    "\n",
    "def first_bad_version(n):\n",
    "    left = 1\n",
    "    right = n\n",
    "\n",
    "    while left < right:\n",
    "        mid = left + (right - left) // 2\n",
    "        if isBadVersion(mid):\n",
    "            right = mid\n",
    "        else:\n",
    "            left = mid + 1\n",
    "\n",
    "    return left\n",
    "\n",
    "\n",
    "# Example \n",
    "def isBadVersion(version):\n",
    "    bad = 4  # Example bad version\n",
    "    return version >= bad\n",
    "\n",
    "n = 5\n",
    "first_bad = first_bad_version(n)\n",
    "print(\"The first bad version is:\", first_bad)\n"
   ]
  },
  {
   "cell_type": "code",
   "execution_count": 4,
   "metadata": {},
   "outputs": [
    {
     "name": "stdout",
     "output_type": "stream",
     "text": [
      "Maximum gap between successive elements: 3\n"
     ]
    }
   ],
   "source": [
    "## Q4.\n",
    "\n",
    "def maximum_gap(nums):\n",
    "    if len(nums) < 2:\n",
    "        return 0\n",
    "\n",
    "    # Find the maximum element to determine the number of digits\n",
    "    max_num = max(nums)\n",
    "\n",
    "    # Perform radix sort\n",
    "    exp = 1\n",
    "    while max_num // exp > 0:\n",
    "        counting_sort(nums, exp)\n",
    "        exp *= 10\n",
    "\n",
    "    # Calculate the maximum difference between successive elements\n",
    "    max_diff = 0\n",
    "    for i in range(1, len(nums)):\n",
    "        max_diff = max(max_diff, nums[i] - nums[i - 1])\n",
    "\n",
    "    return max_diff\n",
    "\n",
    "\n",
    "def counting_sort(nums, exp):\n",
    "    n = len(nums)\n",
    "    count = [0] * 10\n",
    "    output = [0] * n\n",
    "\n",
    "    # Counting occurrence of each digit\n",
    "    for i in range(n):\n",
    "        index = nums[i] // exp\n",
    "        count[index % 10] += 1\n",
    "\n",
    "    # Calculate cumulative count\n",
    "    for i in range(1, 10):\n",
    "        count[i] += count[i - 1]\n",
    "\n",
    "    # Build the sorted array\n",
    "    for i in range(n - 1, -1, -1):\n",
    "        index = nums[i] // exp\n",
    "        output[count[index % 10] - 1] = nums[i]\n",
    "        count[index % 10] -= 1\n",
    "\n",
    "    # Update the original array with the sorted values\n",
    "    for i in range(n):\n",
    "        nums[i] = output[i]\n",
    "\n",
    "\n",
    "# Example \n",
    "nums = [3, 6, 9, 1]\n",
    "max_gap = maximum_gap(nums)\n",
    "print(\"Maximum gap between successive elements:\", max_gap)\n"
   ]
  },
  {
   "cell_type": "code",
   "execution_count": 6,
   "metadata": {},
   "outputs": [
    {
     "name": "stdout",
     "output_type": "stream",
     "text": [
      "True\n"
     ]
    }
   ],
   "source": [
    "## Q5.\n",
    "def contains_duplicate(nums):\n",
    "    unique_nums = set()\n",
    "\n",
    "    for num in nums:\n",
    "        if num in unique_nums:\n",
    "            return True\n",
    "        unique_nums.add(num)\n",
    "\n",
    "    return False\n",
    "\n",
    "\n",
    "# Example\n",
    "nums = [1, 2, 3, 1]\n",
    "has_duplicates = contains_duplicate(nums)\n",
    "print(has_duplicates)\n"
   ]
  },
  {
   "cell_type": "code",
   "execution_count": 7,
   "metadata": {},
   "outputs": [
    {
     "name": "stdout",
     "output_type": "stream",
     "text": [
      "Length of the longest strictly increasing subsequence: 4\n"
     ]
    }
   ],
   "source": [
    "## Q7.\n",
    "def length_of_lis(nums):\n",
    "    if not nums:\n",
    "        return 0\n",
    "\n",
    "    dp = [1] * len(nums)  # Initialize an array to store the length of increasing subsequences\n",
    "\n",
    "    for i in range(len(nums)):\n",
    "        for j in range(i):\n",
    "            if nums[i] > nums[j]:\n",
    "                dp[i] = max(dp[i], dp[j] + 1)\n",
    "\n",
    "    return max(dp)\n",
    "\n",
    "\n",
    "# Example \n",
    "nums = [10, 9, 2, 5, 3, 7, 101, 18]\n",
    "lis_length = length_of_lis(nums)\n",
    "print(\"Length of the longest strictly increasing subsequence:\", lis_length)\n"
   ]
  },
  {
   "cell_type": "code",
   "execution_count": 9,
   "metadata": {},
   "outputs": [
    {
     "name": "stdout",
     "output_type": "stream",
     "text": [
      "False\n"
     ]
    }
   ],
   "source": [
    "## Q8.\n",
    "\n",
    "def find132pattern(nums):\n",
    "    n = len(nums)\n",
    "    stack = []\n",
    "\n",
    "    # Initialize the minimum value\n",
    "    min_value = float('-inf')\n",
    "\n",
    "    # Traverse the array in reverse order\n",
    "    for i in range(n - 1, -1, -1):\n",
    "        # Check if the current element is greater than the minimum value\n",
    "        if nums[i] < min_value:\n",
    "            return True\n",
    "\n",
    "        # Pop elements from the stack that are smaller than the current element\n",
    "        while stack and stack[-1] < nums[i]:\n",
    "            min_value = stack.pop()\n",
    "\n",
    "        # Push the current element to the stack\n",
    "        stack.append(nums[i])\n",
    "\n",
    "    return False\n",
    "\n",
    "\n",
    "# Example\n",
    "nums = [1, 2, 3, 4]\n",
    "has_132_pattern = find132pattern(nums)\n",
    "print(has_132_pattern)\n"
   ]
  },
  {
   "cell_type": "code",
   "execution_count": null,
   "metadata": {},
   "outputs": [],
   "source": []
  }
 ],
 "metadata": {
  "kernelspec": {
   "display_name": "Python 3",
   "language": "python",
   "name": "python3"
  },
  "language_info": {
   "codemirror_mode": {
    "name": "ipython",
    "version": 3
   },
   "file_extension": ".py",
   "mimetype": "text/x-python",
   "name": "python",
   "nbconvert_exporter": "python",
   "pygments_lexer": "ipython3",
   "version": "3.6.5"
  }
 },
 "nbformat": 4,
 "nbformat_minor": 2
}
