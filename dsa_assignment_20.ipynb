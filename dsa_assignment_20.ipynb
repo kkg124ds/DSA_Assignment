{
 "cells": [
  {
   "cell_type": "code",
   "execution_count": 7,
   "metadata": {},
   "outputs": [
    {
     "name": "stdout",
     "output_type": "stream",
     "text": [
      "28\n",
      "7\n"
     ]
    }
   ],
   "source": [
    "## Q1.\n",
    "class TreeNode:\n",
    "    def __init__(self, val=0, left=None, right=None):\n",
    "        self.val = val\n",
    "        self.left = left\n",
    "        self.right = right\n",
    "\n",
    "def find_max_subtree_sum(root):\n",
    "    def dfs(node):\n",
    "        nonlocal max_sum\n",
    "\n",
    "        if not node:\n",
    "            return 0\n",
    "\n",
    "        left_sum = dfs(node.left)\n",
    "        right_sum = dfs(node.right)\n",
    "        subtree_sum = node.val + left_sum + right_sum\n",
    "\n",
    "        max_sum = max(max_sum, subtree_sum)\n",
    "\n",
    "        return subtree_sum\n",
    "\n",
    "    max_sum = float('-inf')\n",
    "    dfs(root)\n",
    "    return max_sum\n",
    "\n",
    "# Example 1\n",
    "root1 = TreeNode(1)\n",
    "root1.left = TreeNode(2)\n",
    "root1.right = TreeNode(3)\n",
    "root1.left.left = TreeNode(4)\n",
    "root1.left.right = TreeNode(5)\n",
    "root1.right.left = TreeNode(6)\n",
    "root1.right.right = TreeNode(7)\n",
    "\n",
    "print(find_max_subtree_sum(root1))  \n",
    "\n",
    "# Example 2\n",
    "root2 = TreeNode(1)\n",
    "root2.left = TreeNode(-2)\n",
    "root2.right = TreeNode(3)\n",
    "root2.left.left = TreeNode(4)\n",
    "root2.left.right = TreeNode(5)\n",
    "root2.right.left = TreeNode(-6)\n",
    "root2.right.right = TreeNode(2)\n",
    "\n",
    "print(find_max_subtree_sum(root2))  \n"
   ]
  },
  {
   "cell_type": "code",
   "execution_count": null,
   "metadata": {},
   "outputs": [],
   "source": []
  },
  {
   "cell_type": "code",
   "execution_count": null,
   "metadata": {},
   "outputs": [],
   "source": []
  },
  {
   "cell_type": "code",
   "execution_count": null,
   "metadata": {},
   "outputs": [],
   "source": []
  }
 ],
 "metadata": {
  "kernelspec": {
   "display_name": "Python 3",
   "language": "python",
   "name": "python3"
  },
  "language_info": {
   "codemirror_mode": {
    "name": "ipython",
    "version": 3
   },
   "file_extension": ".py",
   "mimetype": "text/x-python",
   "name": "python",
   "nbconvert_exporter": "python",
   "pygments_lexer": "ipython3",
   "version": "3.6.5"
  }
 },
 "nbformat": 4,
 "nbformat_minor": 2
}
