{
 "cells": [
  {
   "cell_type": "code",
   "execution_count": 1,
   "metadata": {},
   "outputs": [
    {
     "name": "stdout",
     "output_type": "stream",
     "text": [
      "2 4 6 5 1 "
     ]
    }
   ],
   "source": [
    "## Q1.\n",
    "class ListNode:\n",
    "    def __init__(self, val=0, next=None):\n",
    "        self.val = val\n",
    "        self.next = next\n",
    "\n",
    "def deleteMiddleNode(head):\n",
    "    if not head or not head.next:\n",
    "        return head\n",
    "    \n",
    "    slow = head\n",
    "    fast = head\n",
    "    prev = None\n",
    "    \n",
    "    while fast and fast.next:\n",
    "        prev = slow\n",
    "        slow = slow.next\n",
    "        fast = fast.next.next\n",
    "    \n",
    "    prev.next = slow.next\n",
    "    \n",
    "    return head\n",
    "\n",
    "# Example usage\n",
    "# Create the linked list: 2 -> 4 -> 6 -> 7 -> 5 -> 1\n",
    "head = ListNode(2)\n",
    "head.next = ListNode(4)\n",
    "head.next.next = ListNode(6)\n",
    "head.next.next.next = ListNode(7)\n",
    "head.next.next.next.next = ListNode(5)\n",
    "head.next.next.next.next.next = ListNode(1)\n",
    "\n",
    "# Delete the middle node(s)\n",
    "head = deleteMiddleNode(head)\n",
    "\n",
    "# Print the modified linked list\n",
    "current = head\n",
    "while current:\n",
    "    print(current.val, end=\" \")\n",
    "    current = current.next\n"
   ]
  },
  {
   "cell_type": "code",
   "execution_count": 2,
   "metadata": {},
   "outputs": [
    {
     "name": "stdout",
     "output_type": "stream",
     "text": [
      "True\n"
     ]
    }
   ],
   "source": [
    "## Q2.\n",
    "class ListNode:\n",
    "    def __init__(self, val=0, next=None):\n",
    "        self.val = val\n",
    "        self.next = next\n",
    "\n",
    "def hasCycle(head):\n",
    "    if not head or not head.next:\n",
    "        # Empty list or list with one node\n",
    "        return False\n",
    "    \n",
    "    slow = head\n",
    "    fast = head.next\n",
    "\n",
    "    while fast and fast.next:\n",
    "        if slow == fast:\n",
    "            # Loop detected\n",
    "            return True\n",
    "        \n",
    "        slow = slow.next\n",
    "        fast = fast.next.next\n",
    "\n",
    "    # No loop detected\n",
    "    return False\n",
    "\n",
    "# Example \n",
    "# Create the linked list: 1 -> 3 -> 4 -> 2 (loop back to 3)\n",
    "head = ListNode(1)\n",
    "head.next = ListNode(3)\n",
    "head.next.next = ListNode(4)\n",
    "head.next.next.next = ListNode(2)\n",
    "head.next.next.next.next = head.next\n",
    "\n",
    "# Check if the linked list has a loop\n",
    "hasLoop = hasCycle(head)\n",
    "print(hasLoop)\n"
   ]
  },
  {
   "cell_type": "code",
   "execution_count": 3,
   "metadata": {},
   "outputs": [
    {
     "name": "stdout",
     "output_type": "stream",
     "text": [
      "8\n"
     ]
    }
   ],
   "source": [
    "## Q3.\n",
    "class ListNode:\n",
    "    def __init__(self, val=0, next=None):\n",
    "        self.val = val\n",
    "        self.next = next\n",
    "\n",
    "def findNthFromEnd(head, N):\n",
    "    first = head\n",
    "    second = head\n",
    "\n",
    "    # Move the first pointer N steps ahead\n",
    "    for _ in range(N):\n",
    "        if not first:\n",
    "            # N is greater than the length of the linked list\n",
    "            return None\n",
    "        first = first.next\n",
    "    \n",
    "    # Move both pointers one step at a time\n",
    "    while first:\n",
    "        first = first.next\n",
    "        second = second.next\n",
    "    \n",
    "    return second\n",
    "\n",
    "# Example \n",
    "# Create the linked list: 1 -> 2 -> 3 -> 4 -> 5 -> 6 -> 7 -> 8 -> 9\n",
    "head = ListNode(1)\n",
    "head.next = ListNode(2)\n",
    "head.next.next = ListNode(3)\n",
    "head.next.next.next = ListNode(4)\n",
    "head.next.next.next.next = ListNode(5)\n",
    "head.next.next.next.next.next = ListNode(6)\n",
    "head.next.next.next.next.next.next = ListNode(7)\n",
    "head.next.next.next.next.next.next.next = ListNode(8)\n",
    "head.next.next.next.next.next.next.next.next = ListNode(9)\n",
    "\n",
    "# Find the 2nd node from the end\n",
    "N = 2\n",
    "nthNode = findNthFromEnd(head, N)\n",
    "\n",
    "if nthNode:\n",
    "    print(nthNode.val)\n",
    "else:\n",
    "    print(\"Node not found\")\n"
   ]
  },
  {
   "cell_type": "code",
   "execution_count": 5,
   "metadata": {},
   "outputs": [
    {
     "name": "stdout",
     "output_type": "stream",
     "text": [
      "1 2 5 6 "
     ]
    }
   ],
   "source": [
    "## Q6.\n",
    "class ListNode:\n",
    "    def __init__(self, val=0, next=None):\n",
    "        self.val = val\n",
    "        self.next = next\n",
    "\n",
    "def retainAndDelete(head, M, N):\n",
    "    if not head or M <= 0 or N <= 0:\n",
    "        return head\n",
    "    \n",
    "    current = head\n",
    "    prev = None\n",
    "    \n",
    "    while current:\n",
    "        # Retain M nodes\n",
    "        for _ in range(M):\n",
    "            if not current:\n",
    "                break\n",
    "            prev = current\n",
    "            current = current.next\n",
    "        \n",
    "        # Delete N nodes\n",
    "        for _ in range(N):\n",
    "            if not current:\n",
    "                break\n",
    "            current = current.next\n",
    "        \n",
    "        # Connect the last node of the previous group to the next node after skipping N nodes\n",
    "        prev.next = current\n",
    "    \n",
    "    return head\n",
    "\n",
    "# Example\n",
    "# Create the linked list: 1 -> 2 -> 3 -> 4 -> 5 -> 6 -> 7 -> 8 -> None\n",
    "head = ListNode(1)\n",
    "head.next = ListNode(2)\n",
    "head.next.next = ListNode(3)\n",
    "head.next.next.next = ListNode(4)\n",
    "head.next.next.next.next = ListNode(5)\n",
    "head.next.next.next.next.next = ListNode(6)\n",
    "head.next.next.next.next.next.next = ListNode(7)\n",
    "head.next.next.next.next.next.next.next = ListNode(8)\n",
    "\n",
    "# Retain 2 nodes and delete 2 nodes\n",
    "M = 2\n",
    "N = 2\n",
    "head = retainAndDelete(head, M, N)\n",
    "\n",
    "# Print the updated linked list\n",
    "temp = head\n",
    "while temp:\n",
    "    print(temp.val, end=\" \")\n",
    "    temp = temp.next\n"
   ]
  },
  {
   "cell_type": "code",
   "execution_count": null,
   "metadata": {},
   "outputs": [],
   "source": []
  }
 ],
 "metadata": {
  "kernelspec": {
   "display_name": "Python 3",
   "language": "python",
   "name": "python3"
  },
  "language_info": {
   "codemirror_mode": {
    "name": "ipython",
    "version": 3
   },
   "file_extension": ".py",
   "mimetype": "text/x-python",
   "name": "python",
   "nbconvert_exporter": "python",
   "pygments_lexer": "ipython3",
   "version": "3.6.5"
  }
 },
 "nbformat": 4,
 "nbformat_minor": 2
}
