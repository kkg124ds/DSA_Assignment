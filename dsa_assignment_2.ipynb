{
 "cells": [
  {
   "cell_type": "code",
   "execution_count": 2,
   "metadata": {},
   "outputs": [
    {
     "name": "stdout",
     "output_type": "stream",
     "text": [
      "4\n"
     ]
    }
   ],
   "source": [
    "## Q1.\n",
    "def arrayPairSum(nums):\n",
    "    nums.sort()\n",
    "    max_sum = 0\n",
    "    for i in range(0, len(nums), 2):\n",
    "        max_sum += nums[i]\n",
    "    return max_sum\n",
    "\n",
    "# Example \n",
    "nums = [1, 4, 3, 2]\n",
    "result = arrayPairSum(nums)\n",
    "print(result)  "
   ]
  },
  {
   "cell_type": "code",
   "execution_count": 3,
   "metadata": {},
   "outputs": [
    {
     "name": "stdout",
     "output_type": "stream",
     "text": [
      "3\n"
     ]
    }
   ],
   "source": [
    "## Q2.\n",
    "def distributeCandies(candyType):\n",
    "    unique_candies = set()\n",
    "    for candy in candyType:\n",
    "        unique_candies.add(candy)\n",
    "    limit = len(candyType) // 2\n",
    "    return min(limit, len(unique_candies))\n",
    "\n",
    "# Example \n",
    "candyType = [1, 1, 2, 2, 3, 3]\n",
    "result = distributeCandies(candyType)\n",
    "print(result)  "
   ]
  },
  {
   "cell_type": "code",
   "execution_count": 4,
   "metadata": {},
   "outputs": [
    {
     "name": "stdout",
     "output_type": "stream",
     "text": [
      "5\n"
     ]
    }
   ],
   "source": [
    "## Q3.\n",
    "def findLHS(nums):\n",
    "    numFreq = {}\n",
    "    for num in nums:\n",
    "        numFreq[num] = numFreq.get(num, 0) + 1\n",
    "\n",
    "    maxLen = 0\n",
    "    for num in numFreq:\n",
    "        if num + 1 in numFreq:\n",
    "            maxLen = max(maxLen, numFreq[num] + numFreq[num + 1])\n",
    "\n",
    "    return maxLen\n",
    "\n",
    "# Example\n",
    "nums = [1, 3, 2, 2, 5, 2, 3, 7]\n",
    "result = findLHS(nums)\n",
    "print(result) \n"
   ]
  },
  {
   "cell_type": "code",
   "execution_count": 5,
   "metadata": {},
   "outputs": [
    {
     "name": "stdout",
     "output_type": "stream",
     "text": [
      "True\n"
     ]
    }
   ],
   "source": [
    "## Q4.\n",
    "def canPlaceFlowers(flowerbed, n):\n",
    "    count = 0\n",
    "    for i in range(len(flowerbed)):\n",
    "        if (\n",
    "            flowerbed[i] == 0 and\n",
    "            (i == 0 or flowerbed[i - 1] == 0) and\n",
    "            (i == len(flowerbed) - 1 or flowerbed[i + 1] == 0)\n",
    "        ):\n",
    "            flowerbed[i] = 1\n",
    "            count += 1\n",
    "    return count >= n\n",
    "\n",
    "# Example \n",
    "flowerbed = [1, 0, 0, 0, 1]\n",
    "n = 1\n",
    "result = canPlaceFlowers(flowerbed, n)\n",
    "print(result)  \n"
   ]
  },
  {
   "cell_type": "code",
   "execution_count": 6,
   "metadata": {},
   "outputs": [
    {
     "name": "stdout",
     "output_type": "stream",
     "text": [
      "6\n"
     ]
    }
   ],
   "source": [
    "## Q5.\n",
    "def maximum_product(nums):\n",
    "    nums.sort()\n",
    "    return max(nums[-1] * nums[-2] * nums[-3], nums[0] * nums[1] * nums[-1])\n",
    "\n",
    "# Example\n",
    "nums = [1, 2, 3]\n",
    "result = maximum_product(nums)\n",
    "print(result)"
   ]
  },
  {
   "cell_type": "code",
   "execution_count": 7,
   "metadata": {},
   "outputs": [
    {
     "name": "stdout",
     "output_type": "stream",
     "text": [
      "4\n"
     ]
    }
   ],
   "source": [
    "## Q6.\n",
    "def search(nums, target):\n",
    "    left, right = 0, len(nums) - 1\n",
    "    while left <= right:\n",
    "        mid = left + (right - left) // 2\n",
    "        if nums[mid] == target:\n",
    "            return mid\n",
    "        elif nums[mid] < target:\n",
    "            left = mid + 1\n",
    "        else:\n",
    "            right = mid - 1\n",
    "    return -1\n",
    "\n",
    "# Example \n",
    "nums = [-1, 0, 3, 5, 9, 12]\n",
    "target = 9\n",
    "index = search(nums, target)\n",
    "print(index)  "
   ]
  },
  {
   "cell_type": "code",
   "execution_count": 9,
   "metadata": {},
   "outputs": [
    {
     "name": "stdout",
     "output_type": "stream",
     "text": [
      "True\n"
     ]
    }
   ],
   "source": [
    "## Q7.\n",
    "def isMonotonic(nums):\n",
    "    isIncreasing = True\n",
    "    isDecreasing = True\n",
    "    for i in range(1, len(nums)):\n",
    "        if nums[i] > nums[i - 1]:\n",
    "            isDecreasing = False\n",
    "        if nums[i] < nums[i - 1]:\n",
    "            isIncreasing = False\n",
    "    return isIncreasing or isDecreasing\n",
    "\n",
    "# Example \n",
    "nums = [1, 2, 2, 3]\n",
    "result = isMonotonic(nums)\n",
    "print(result)  \n"
   ]
  },
  {
   "cell_type": "code",
   "execution_count": 11,
   "metadata": {},
   "outputs": [
    {
     "name": "stdout",
     "output_type": "stream",
     "text": [
      "0\n"
     ]
    }
   ],
   "source": [
    "## Q8.\n",
    "def minimum_difference(nums, k):\n",
    "    nums.sort()\n",
    "    result = nums[-1] - nums[0]\n",
    "    for i in range(len(nums) - 1):\n",
    "        max_num = max(nums[-1], nums[i] + 2 * k)\n",
    "        min_num = min(nums[i + 1], nums[0] + 2 * k)\n",
    "        result = min(result, max_num - min_num)\n",
    "    return result\n",
    "\n",
    "# Example\n",
    "nums = [1]\n",
    "k = 0\n",
    "result = minimum_difference(nums, k)\n",
    "print(result) \n"
   ]
  },
  {
   "cell_type": "code",
   "execution_count": null,
   "metadata": {},
   "outputs": [],
   "source": []
  }
 ],
 "metadata": {
  "kernelspec": {
   "display_name": "Python 3",
   "language": "python",
   "name": "python3"
  },
  "language_info": {
   "codemirror_mode": {
    "name": "ipython",
    "version": 3
   },
   "file_extension": ".py",
   "mimetype": "text/x-python",
   "name": "python",
   "nbconvert_exporter": "python",
   "pygments_lexer": "ipython3",
   "version": "3.6.5"
  }
 },
 "nbformat": 4,
 "nbformat_minor": 2
}
