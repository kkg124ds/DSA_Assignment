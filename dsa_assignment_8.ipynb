{
 "cells": [
  {
   "cell_type": "code",
   "execution_count": 1,
   "metadata": {},
   "outputs": [
    {
     "name": "stdout",
     "output_type": "stream",
     "text": [
      "231\n"
     ]
    }
   ],
   "source": [
    "## Q1.\n",
    "def minimumDeleteSum(s1, s2):\n",
    "    m, n = len(s1), len(s2)\n",
    "    dp = [[0] * (n + 1) for _ in range(m + 1)]\n",
    "\n",
    "    # Initialize the last row and last column\n",
    "    for i in range(m - 1, -1, -1):\n",
    "        dp[i][n] = dp[i + 1][n] + ord(s1[i])\n",
    "    for j in range(n - 1, -1, -1):\n",
    "        dp[m][j] = dp[m][j + 1] + ord(s2[j])\n",
    "\n",
    "    # Calculate the lowest ASCII sum of deleted characters\n",
    "    for i in range(m - 1, -1, -1):\n",
    "        for j in range(n - 1, -1, -1):\n",
    "            if s1[i] == s2[j]:\n",
    "                dp[i][j] = dp[i + 1][j + 1]\n",
    "            else:\n",
    "                dp[i][j] = min(ord(s1[i]) + dp[i + 1][j], ord(s2[j]) + dp[i][j + 1])\n",
    "\n",
    "    return dp[0][0]\n",
    "\n",
    "# Example \n",
    "s1 = \"sea\"\n",
    "s2 = \"eat\"\n",
    "print(minimumDeleteSum(s1, s2))  \n"
   ]
  },
  {
   "cell_type": "code",
   "execution_count": 2,
   "metadata": {},
   "outputs": [
    {
     "name": "stdout",
     "output_type": "stream",
     "text": [
      "True\n"
     ]
    }
   ],
   "source": [
    "## Q2.\n",
    "def checkValidString(s):\n",
    "    stack = []\n",
    "\n",
    "    # Process the string\n",
    "    for c in s:\n",
    "        if c == '(' or c == '*':\n",
    "            stack.append(c)\n",
    "        elif c == ')':\n",
    "            if stack and stack[-1] == '(':\n",
    "                stack.pop()\n",
    "            else:\n",
    "                # Use '*' as a substitute for '('\n",
    "                stack.append('*')\n",
    "\n",
    "    # Process remaining characters in the stack\n",
    "    for c in stack[::-1]:\n",
    "        if c == '(':\n",
    "            return False\n",
    "\n",
    "    return True\n",
    "\n",
    "# Example \n",
    "s = \"()\"\n",
    "print(checkValidString(s))  \n"
   ]
  },
  {
   "cell_type": "code",
   "execution_count": 3,
   "metadata": {},
   "outputs": [
    {
     "name": "stdout",
     "output_type": "stream",
     "text": [
      "2\n"
     ]
    }
   ],
   "source": [
    "## Q3.\n",
    "def minDistance(word1, word2):\n",
    "    m, n = len(word1), len(word2)\n",
    "\n",
    "    # Initialize the DP table\n",
    "    dp = [[0] * (n + 1) for _ in range(m + 1)]\n",
    "\n",
    "    # Base cases\n",
    "    for i in range(m + 1):\n",
    "        dp[i][0] = i\n",
    "    for j in range(n + 1):\n",
    "        dp[0][j] = j\n",
    "\n",
    "    # Fill the DP table\n",
    "    for i in range(1, m + 1):\n",
    "        for j in range(1, n + 1):\n",
    "            if word1[i - 1] == word2[j - 1]:\n",
    "                dp[i][j] = dp[i - 1][j - 1]\n",
    "            else:\n",
    "                dp[i][j] = min(dp[i - 1][j], dp[i][j - 1]) + 1\n",
    "\n",
    "    # Return the minimum number of steps\n",
    "    return m + n - 2 * dp[m][n]\n",
    "\n",
    "# Example \n",
    "word1 = \"sea\"\n",
    "word2 = \"eat\"\n",
    "print(minDistance(word1, word2))  \n"
   ]
  },
  {
   "cell_type": "code",
   "execution_count": 4,
   "metadata": {},
   "outputs": [
    {
     "name": "stdout",
     "output_type": "stream",
     "text": [
      "6\n",
      "['a', '2', 'b', '2', 'c', '3']\n"
     ]
    }
   ],
   "source": [
    "## Q5.\n",
    "def compress(chars):\n",
    "    readPtr = 0\n",
    "    writePtr = 0\n",
    "    count = 1\n",
    "\n",
    "    for readPtr in range(1, len(chars)):\n",
    "        if chars[readPtr] == chars[readPtr - 1]:\n",
    "            count += 1\n",
    "        else:\n",
    "            chars[writePtr] = chars[readPtr - 1]\n",
    "            writePtr += 1\n",
    "            if count > 1:\n",
    "                countStr = str(count)\n",
    "                for digit in countStr:\n",
    "                    chars[writePtr] = digit\n",
    "                    writePtr += 1\n",
    "            count = 1\n",
    "\n",
    "    chars[writePtr] = chars[readPtr]\n",
    "    writePtr += 1\n",
    "    if count > 1:\n",
    "        countStr = str(count)\n",
    "        for digit in countStr:\n",
    "            chars[writePtr] = digit\n",
    "            writePtr += 1\n",
    "\n",
    "    return writePtr\n",
    "\n",
    "# Example \n",
    "chars = [\"a\",\"a\",\"b\",\"b\",\"c\",\"c\",\"c\"]\n",
    "length = compress(chars)\n",
    "print(length)  \n",
    "print(chars[:length])  \n"
   ]
  },
  {
   "cell_type": "code",
   "execution_count": 5,
   "metadata": {},
   "outputs": [
    {
     "name": "stdout",
     "output_type": "stream",
     "text": [
      "[0, 6]\n"
     ]
    }
   ],
   "source": [
    "## Q6.\n",
    "from collections import Counter\n",
    "\n",
    "def findAnagrams(s, p):\n",
    "    result = []\n",
    "    targetFreq = Counter(p)\n",
    "    windowFreq = Counter()\n",
    "    left = 0\n",
    "    right = 0\n",
    "    matchCount = 0\n",
    "\n",
    "    while right < len(s):\n",
    "        if s[right] in targetFreq:\n",
    "            windowFreq[s[right]] += 1\n",
    "            if windowFreq[s[right]] == targetFreq[s[right]]:\n",
    "                matchCount += 1\n",
    "\n",
    "        if right - left + 1 == len(p):\n",
    "            if matchCount == len(targetFreq):\n",
    "                result.append(left)\n",
    "\n",
    "            if s[left] in targetFreq:\n",
    "                windowFreq[s[left]] -= 1\n",
    "                if windowFreq[s[left]] < targetFreq[s[left]]:\n",
    "                    matchCount -= 1\n",
    "\n",
    "            left += 1\n",
    "\n",
    "        right += 1\n",
    "\n",
    "    return result\n",
    "\n",
    "# Example\n",
    "s = \"cbaebabacd\"\n",
    "p = \"abc\"\n",
    "indices = findAnagrams(s, p)\n",
    "print(indices)  \n"
   ]
  },
  {
   "cell_type": "code",
   "execution_count": 6,
   "metadata": {},
   "outputs": [
    {
     "name": "stdout",
     "output_type": "stream",
     "text": [
      "bcbcaaa\n"
     ]
    }
   ],
   "source": [
    "## Q7.\n",
    "def decodeString(s):\n",
    "    stack = []\n",
    "    \n",
    "    for c in s:\n",
    "        if c != ']':\n",
    "            stack.append(c)\n",
    "        else:\n",
    "            encoded = ''\n",
    "            while stack[-1] != '[':\n",
    "                encoded = stack.pop() + encoded\n",
    "            \n",
    "            stack.pop()  # Discard '['\n",
    "            k = ''\n",
    "            while stack and stack[-1].isdigit():\n",
    "                k = stack.pop() + k\n",
    "            \n",
    "            decoded = int(k) * encoded\n",
    "            stack.append(decoded)\n",
    "    \n",
    "    return ''.join(stack[::-1])\n",
    "\n",
    "# Example\n",
    "s = \"3[a]2[bc]\"\n",
    "decoded = decodeString(s)\n",
    "print(decoded)  \n"
   ]
  },
  {
   "cell_type": "code",
   "execution_count": 7,
   "metadata": {},
   "outputs": [
    {
     "name": "stdout",
     "output_type": "stream",
     "text": [
      "True\n"
     ]
    }
   ],
   "source": [
    "## Q8.\n",
    "def buddyStrings(s, goal):\n",
    "    if len(s) != len(goal):\n",
    "        return False\n",
    "\n",
    "    if s == goal and len(set(s)) < len(s):\n",
    "        return True\n",
    "\n",
    "    mismatches = []\n",
    "    for i in range(len(s)):\n",
    "        if s[i] != goal[i]:\n",
    "            mismatches.append(i)\n",
    "\n",
    "    if len(mismatches) != 2:\n",
    "        return False\n",
    "\n",
    "    i, j = mismatches\n",
    "    if s[i] == goal[j] and s[j] == goal[i]:\n",
    "        return True\n",
    "\n",
    "    return False\n",
    "\n",
    "# Example\n",
    "s = \"ab\"\n",
    "goal = \"ba\"\n",
    "result = buddyStrings(s, goal)\n",
    "print(result)  \n"
   ]
  },
  {
   "cell_type": "code",
   "execution_count": null,
   "metadata": {},
   "outputs": [],
   "source": []
  },
  {
   "cell_type": "code",
   "execution_count": null,
   "metadata": {},
   "outputs": [],
   "source": []
  }
 ],
 "metadata": {
  "kernelspec": {
   "display_name": "Python 3",
   "language": "python",
   "name": "python3"
  },
  "language_info": {
   "codemirror_mode": {
    "name": "ipython",
    "version": 3
   },
   "file_extension": ".py",
   "mimetype": "text/x-python",
   "name": "python",
   "nbconvert_exporter": "python",
   "pygments_lexer": "ipython3",
   "version": "3.6.5"
  }
 },
 "nbformat": 4,
 "nbformat_minor": 2
}
