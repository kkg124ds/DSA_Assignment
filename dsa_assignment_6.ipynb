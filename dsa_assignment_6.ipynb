{
 "cells": [
  {
   "cell_type": "code",
   "execution_count": 1,
   "metadata": {},
   "outputs": [
    {
     "name": "stdout",
     "output_type": "stream",
     "text": [
      "[1, 5, 2, 4, 3]\n"
     ]
    }
   ],
   "source": [
    "## Q1.\n",
    "def findPermutation(s):\n",
    "    perm = []\n",
    "    start, end = 1, len(s) + 1\n",
    "\n",
    "    for c in s:\n",
    "        if c == 'I':\n",
    "            perm.append(start)\n",
    "            start += 1\n",
    "        elif c == 'D':\n",
    "            perm.append(end)\n",
    "            end -= 1\n",
    "\n",
    "    perm.append(start)\n",
    "    return perm\n",
    "\n",
    "# Example \n",
    "s = \"IDID\"\n",
    "perm = findPermutation(s)\n",
    "print(perm)  \n"
   ]
  },
  {
   "cell_type": "code",
   "execution_count": 2,
   "metadata": {},
   "outputs": [
    {
     "name": "stdout",
     "output_type": "stream",
     "text": [
      "True\n"
     ]
    }
   ],
   "source": [
    "## Q2.\n",
    "def searchMatrix(matrix, target):\n",
    "    m = len(matrix)\n",
    "    n = len(matrix[0])\n",
    "    left = 0\n",
    "    right = m * n - 1\n",
    "\n",
    "    while left <= right:\n",
    "        mid = left + (right - left) // 2\n",
    "        row = mid // n\n",
    "        col = mid % n\n",
    "        if matrix[row][col] == target:\n",
    "            return True\n",
    "        elif matrix[row][col] < target:\n",
    "            left = mid + 1\n",
    "        else:\n",
    "            right = mid - 1\n",
    "\n",
    "    return False\n",
    "\n",
    "# Example \n",
    "matrix = [[1, 3, 5, 7], [10, 11, 16, 20], [23, 30, 34, 60]]\n",
    "target = 3\n",
    "print(searchMatrix(matrix, target))  \n"
   ]
  },
  {
   "cell_type": "code",
   "execution_count": 3,
   "metadata": {},
   "outputs": [
    {
     "name": "stdout",
     "output_type": "stream",
     "text": [
      "False\n"
     ]
    }
   ],
   "source": [
    "## Q3.\n",
    "def validMountainArray(arr):\n",
    "    if len(arr) < 3:\n",
    "        return False\n",
    "\n",
    "    i = 0\n",
    "    while i < len(arr) - 1 and arr[i] < arr[i+1]:\n",
    "        i += 1\n",
    "\n",
    "    if i == 0 or i == len(arr) - 1:\n",
    "        return False\n",
    "\n",
    "    while i < len(arr) - 1 and arr[i] > arr[i+1]:\n",
    "        i += 1\n",
    "        if arr[i] >= arr[i+1]:\n",
    "            return False\n",
    "\n",
    "    return i == len(arr) - 1\n",
    "\n",
    "# Example \n",
    "arr = [2, 1]\n",
    "print(validMountainArray(arr))  \n"
   ]
  },
  {
   "cell_type": "code",
   "execution_count": 4,
   "metadata": {},
   "outputs": [
    {
     "name": "stdout",
     "output_type": "stream",
     "text": [
      "2\n"
     ]
    }
   ],
   "source": [
    "## Q4.\n",
    "def findMaxLength(nums):\n",
    "    max_len = 0\n",
    "    count = 0\n",
    "    count_dict = {0: -1}\n",
    "\n",
    "    for i, num in enumerate(nums):\n",
    "        count += 1 if num == 1 else -1\n",
    "\n",
    "        if count in count_dict:\n",
    "            subarray_len = i - count_dict[count]\n",
    "            max_len = max(max_len, subarray_len)\n",
    "        else:\n",
    "            count_dict[count] = i\n",
    "\n",
    "    return max_len\n",
    "\n",
    "# Example \n",
    "nums = [0, 1]\n",
    "print(findMaxLength(nums))  \n"
   ]
  },
  {
   "cell_type": "code",
   "execution_count": 5,
   "metadata": {},
   "outputs": [
    {
     "name": "stdout",
     "output_type": "stream",
     "text": [
      "40\n"
     ]
    }
   ],
   "source": [
    "## Q5.\n",
    "def minProductSum(nums1, nums2):\n",
    "    nums1.sort()\n",
    "    nums2.sort(reverse=True)\n",
    "    min_product_sum = 0\n",
    "\n",
    "    for i in range(len(nums1)):\n",
    "        min_product_sum += nums1[i] * nums2[i]\n",
    "\n",
    "    return min_product_sum\n",
    "\n",
    "# Example \n",
    "nums1 = [5, 3, 4, 2]\n",
    "nums2 = [4, 2, 2, 5]\n",
    "print(minProductSum(nums1, nums2))  \n"
   ]
  },
  {
   "cell_type": "code",
   "execution_count": 7,
   "metadata": {},
   "outputs": [
    {
     "name": "stdout",
     "output_type": "stream",
     "text": [
      "[[1, 2, 3], [8, 9, 4], [7, 6, 5]]\n"
     ]
    }
   ],
   "source": [
    "## Q7.\n",
    "def generateMatrix(n):\n",
    "    matrix = [[0] * n for _ in range(n)]\n",
    "    rowStart, rowEnd = 0, n - 1\n",
    "    colStart, colEnd = 0, n - 1\n",
    "    num = 1\n",
    "\n",
    "    while num <= n * n:\n",
    "        # Fill top row\n",
    "        for j in range(colStart, colEnd + 1):\n",
    "            matrix[rowStart][j] = num\n",
    "            num += 1\n",
    "        rowStart += 1\n",
    "\n",
    "        # Fill rightmost column\n",
    "        for i in range(rowStart, rowEnd + 1):\n",
    "            matrix[i][colEnd] = num\n",
    "            num += 1\n",
    "        colEnd -= 1\n",
    "\n",
    "        # Fill bottom row\n",
    "        for j in range(colEnd, colStart - 1, -1):\n",
    "            matrix[rowEnd][j] = num\n",
    "            num += 1\n",
    "        rowEnd -= 1\n",
    "\n",
    "        # Fill leftmost column\n",
    "        for i in range(rowEnd, rowStart - 1, -1):\n",
    "            matrix[i][colStart] = num\n",
    "            num += 1\n",
    "        colStart += 1\n",
    "\n",
    "    return matrix\n",
    "\n",
    "# Example \n",
    "n = 3\n",
    "print(generateMatrix(n))  \n"
   ]
  },
  {
   "cell_type": "code",
   "execution_count": 9,
   "metadata": {},
   "outputs": [
    {
     "name": "stdout",
     "output_type": "stream",
     "text": [
      "[[7, 0, 0], [-7, 0, 3]]\n"
     ]
    }
   ],
   "source": [
    "## Q8.\n",
    "def multiply(mat1, mat2):\n",
    "    m, k = len(mat1), len(mat1[0])\n",
    "    k, n = len(mat2), len(mat2[0])\n",
    "    result = [[0] * n for _ in range(m)]\n",
    "\n",
    "    for row1 in range(m):\n",
    "        for col1 in range(k):\n",
    "            val1 = mat1[row1][col1]\n",
    "            if val1 != 0:\n",
    "                for col2 in range(n):\n",
    "                    result[row1][col2] += val1 * mat2[col1][col2]\n",
    "\n",
    "    return result\n",
    "\n",
    "# Example \n",
    "mat1 = [[1,0,0],[-1,0,3]]\n",
    "mat2 = [[7,0,0],[0,0,0],[0,0,1]]\n",
    "print(multiply(mat1, mat2))  \n"
   ]
  },
  {
   "cell_type": "code",
   "execution_count": null,
   "metadata": {},
   "outputs": [],
   "source": []
  }
 ],
 "metadata": {
  "kernelspec": {
   "display_name": "Python 3",
   "language": "python",
   "name": "python3"
  },
  "language_info": {
   "codemirror_mode": {
    "name": "ipython",
    "version": 3
   },
   "file_extension": ".py",
   "mimetype": "text/x-python",
   "name": "python",
   "nbconvert_exporter": "python",
   "pygments_lexer": "ipython3",
   "version": "3.6.5"
  }
 },
 "nbformat": 4,
 "nbformat_minor": 2
}
