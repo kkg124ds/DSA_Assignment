{
 "cells": [
  {
   "cell_type": "code",
   "execution_count": 1,
   "metadata": {},
   "outputs": [
    {
     "name": "stdout",
     "output_type": "stream",
     "text": [
      "Next greater elements: [3, 4, 4, -1]\n"
     ]
    }
   ],
   "source": [
    "## Q1.\n",
    "def next_greater_elements(arr):\n",
    "    n = len(arr)\n",
    "    stack = []\n",
    "    result = [-1] * n\n",
    "\n",
    "    for i in range(n):\n",
    "        # Check if the current element is greater than the top of the stack\n",
    "        while stack and arr[i] > arr[stack[-1]]:\n",
    "            top_idx = stack.pop()\n",
    "            result[top_idx] = arr[i]\n",
    "\n",
    "        # Push the current element's index to the stack\n",
    "        stack.append(i)\n",
    "\n",
    "    return result\n",
    "\n",
    "\n",
    "# Example\n",
    "arr = [1, 3, 2, 4]\n",
    "next_greater = next_greater_elements(arr)\n",
    "print(\"Next greater elements:\", next_greater)\n"
   ]
  },
  {
   "cell_type": "code",
   "execution_count": 2,
   "metadata": {},
   "outputs": [
    {
     "name": "stdout",
     "output_type": "stream",
     "text": [
      "Nearest smaller on the left: [-1, 1, 1]\n"
     ]
    }
   ],
   "source": [
    "## Q2.\n",
    "def nearest_smaller_on_left(arr):\n",
    "    n = len(arr)\n",
    "    stack = []\n",
    "    result = []\n",
    "\n",
    "    for num in arr:\n",
    "        # Pop elements from the stack that are greater than the current number\n",
    "        while stack and stack[-1] >= num:\n",
    "            stack.pop()\n",
    "\n",
    "        # If the stack is empty, there's no smaller element on the left\n",
    "        if not stack:\n",
    "            result.append(-1)\n",
    "        else:\n",
    "            result.append(stack[-1])\n",
    "\n",
    "        # Push the current number to the stack\n",
    "        stack.append(num)\n",
    "\n",
    "    return result\n",
    "\n",
    "\n",
    "# Example \n",
    "arr = [1, 6, 2]\n",
    "nearest_smaller = nearest_smaller_on_left(arr)\n",
    "print(\"Nearest smaller on the left:\", nearest_smaller)\n"
   ]
  },
  {
   "cell_type": "code",
   "execution_count": 1,
   "metadata": {},
   "outputs": [
    {
     "name": "stdout",
     "output_type": "stream",
     "text": [
      "skeeGrofskeeG\n"
     ]
    }
   ],
   "source": [
    "## Q5.\n",
    "def reverse_string_using_stack(S):\n",
    "    stack = []\n",
    "    reversed_string = \"\"\n",
    "\n",
    "    # Create an empty stack\n",
    "    # Then Push characters onto the stack\n",
    "    for char in S:\n",
    "        stack.append(char)\n",
    "\n",
    "    # Pop characters from the stack to form the reversed string\n",
    "    while stack:\n",
    "        reversed_string += stack.pop()\n",
    "\n",
    "    return reversed_string\n",
    "\n",
    "# Example\n",
    "input_string = \"GeeksforGeeks\"\n",
    "output = reverse_string_using_stack(input_string)\n",
    "print(output) \n"
   ]
  },
  {
   "cell_type": "code",
   "execution_count": 2,
   "metadata": {},
   "outputs": [
    {
     "name": "stdout",
     "output_type": "stream",
     "text": [
      "-4\n"
     ]
    }
   ],
   "source": [
    "## Q6.\n",
    "def evaluate_postfix_expression(S):\n",
    "    stack = []\n",
    "\n",
    "    # Traverse the input string\n",
    "    for char in S:\n",
    "        # Process each character\n",
    "        if char.isdigit():\n",
    "            stack.append(int(char))\n",
    "        else:\n",
    "            operand2 = stack.pop()\n",
    "            operand1 = stack.pop()\n",
    "\n",
    "            # Perform arithmetic operation based on the operator\n",
    "            if char == '+':\n",
    "                result = operand1 + operand2\n",
    "            elif char == '-':\n",
    "                result = operand1 - operand2\n",
    "            elif char == '*':\n",
    "                result = operand1 * operand2\n",
    "            elif char == '/':\n",
    "                result = operand1 / operand2\n",
    "\n",
    "            stack.append(result)\n",
    "\n",
    "    # Final value is the only element left on the stack\n",
    "    return stack.pop()\n",
    "\n",
    "# Example\n",
    "input_string = \"231*+9-\"\n",
    "output = evaluate_postfix_expression(input_string)\n",
    "print(output)  \n"
   ]
  },
  {
   "cell_type": "code",
   "execution_count": 7,
   "metadata": {},
   "outputs": [
    {
     "name": "stdout",
     "output_type": "stream",
     "text": [
      "[None, None, None, None, -3, None, 0, -2]\n"
     ]
    }
   ],
   "source": [
    "## Q7.\n",
    "class MinStack:\n",
    "    def __init__(self):\n",
    "        self.stack = []\n",
    "        self.min_stack = []\n",
    "\n",
    "    def push(self, val):\n",
    "        self.stack.append(val)\n",
    "        if not self.min_stack or val <= self.min_stack[-1]:\n",
    "            self.min_stack.append(val)\n",
    "\n",
    "    def pop(self):\n",
    "        if self.stack:\n",
    "            if self.stack[-1] == self.min_stack[-1]:\n",
    "                self.min_stack.pop()\n",
    "            self.stack.pop()\n",
    "\n",
    "    def top(self):\n",
    "        if self.stack:\n",
    "            return self.stack[-1]\n",
    "\n",
    "    def getMin(self):\n",
    "        if self.min_stack:\n",
    "            return self.min_stack[-1]\n",
    "\n",
    "        \n",
    "# Example\n",
    "operations = [\"MinStack\", \"push\", \"push\", \"push\", \"getMin\", \"pop\", \"top\", \"getMin\"]\n",
    "values = [[], [-2], [0], [-3], [], [], [], []]\n",
    "\n",
    "output = []\n",
    "minStack = None\n",
    "\n",
    "for i in range(len(operations)):\n",
    "    if operations[i] == \"MinStack\":\n",
    "        minStack = MinStack()\n",
    "        output.append(None)\n",
    "    elif operations[i] == \"push\":\n",
    "        minStack.push(values[i][0])\n",
    "        output.append(None)\n",
    "    elif operations[i] == \"pop\":\n",
    "        minStack.pop()\n",
    "        output.append(None)\n",
    "    elif operations[i] == \"top\":\n",
    "        output.append(minStack.top())\n",
    "    elif operations[i] == \"getMin\":\n",
    "        output.append(minStack.getMin())\n",
    "\n",
    "print(output) \n"
   ]
  },
  {
   "cell_type": "code",
   "execution_count": null,
   "metadata": {},
   "outputs": [],
   "source": []
  },
  {
   "cell_type": "code",
   "execution_count": null,
   "metadata": {},
   "outputs": [],
   "source": []
  }
 ],
 "metadata": {
  "kernelspec": {
   "display_name": "Python 3",
   "language": "python",
   "name": "python3"
  },
  "language_info": {
   "codemirror_mode": {
    "name": "ipython",
    "version": 3
   },
   "file_extension": ".py",
   "mimetype": "text/x-python",
   "name": "python",
   "nbconvert_exporter": "python",
   "pygments_lexer": "ipython3",
   "version": "3.6.5"
  }
 },
 "nbformat": 4,
 "nbformat_minor": 2
}
